{
 "cells": [
  {
   "cell_type": "markdown",
   "id": "211c2193-cb65-4777-bcb4-81686f7ad886",
   "metadata": {},
   "source": [
    "# My Jupyter Notebook on SkillsNetwork Lab"
   ]
  },
  {
   "cell_type": "markdown",
   "id": "df29b420-c0fc-46b3-a47f-d663114186ee",
   "metadata": {},
   "source": [
    "### Introduction"
   ]
  },
  {
   "cell_type": "markdown",
   "id": "61b25f8a-a4d2-4c13-9d3e-24dac48798c7",
   "metadata": {},
   "source": [
    "**Kumiko Dyer**\n",
    "<br>COO"
   ]
  },
  {
   "cell_type": "markdown",
   "id": "eee5903c-3ed2-49b3-85a4-6e50697e8db4",
   "metadata": {},
   "source": [
    "*I'm interested in data science because I have a lot of data that need to be analyzed and I need to learn how to visualize them for a better presentation.*"
   ]
  },
  {
   "cell_type": "markdown",
   "id": "50d75474-2840-4070-8b1e-0c762559d52f",
   "metadata": {
    "tags": []
   },
   "source": [
    "### Evaluatin basic arithmetic expression"
   ]
  },
  {
   "cell_type": "code",
   "execution_count": 6,
   "id": "0c7226b8-8eab-4bf9-96eb-108d4bf13af8",
   "metadata": {},
   "outputs": [
    {
     "name": "stdout",
     "output_type": "stream",
     "text": [
      "16\n"
     ]
    }
   ],
   "source": [
    "print (2 * 5 + 1 + 5)"
   ]
  },
  {
   "cell_type": "markdown",
   "id": "6d513da7-d19a-4238-b0a3-0e6efdf0c808",
   "metadata": {},
   "source": [
    "### Create a code cell to convert minutes to hours"
   ]
  },
  {
   "cell_type": "code",
   "execution_count": 7,
   "id": "db3d2121-156e-48a8-8e4e-fadd64160fd2",
   "metadata": {},
   "outputs": [
    {
     "name": "stdout",
     "output_type": "stream",
     "text": [
      "2.0833333333333335\n"
     ]
    }
   ],
   "source": [
    "print (125 / 60)"
   ]
  },
  {
   "cell_type": "markdown",
   "id": "22a7653e-3e92-4b6e-bf52-0b5750cb9fa1",
   "metadata": {},
   "source": [
    "###  Some of the popular Programming languages "
   ]
  },
  {
   "cell_type": "markdown",
   "id": "3ec7fa1f-7e4e-43d9-a1e1-95013d516f55",
   "metadata": {},
   "source": [
    "<ol>\n",
    "<li>Python</li>\n",
    "<li>R</li>\n",
    "<li>Julia</li>\n",
    "</ol>"
   ]
  },
  {
   "cell_type": "markdown",
   "id": "f261a14f-1fcb-4702-98f7-9a912444cad2",
   "metadata": {},
   "source": [
    "### Python library examples"
   ]
  },
  {
   "cell_type": "markdown",
   "id": "8d5f8d63-e73f-4324-b7e5-73d8dc2ce60c",
   "metadata": {},
   "source": [
    "<ol>\n",
    "<li>Pandas</li>\n",
    "<li>PyTorch</li>\n",
    "<li>NumPy</li>\n",
    "</ol>"
   ]
  },
  {
   "cell_type": "markdown",
   "id": "01d620c1-9edd-4dae-a496-2147da5da6ea",
   "metadata": {},
   "source": [
    "***"
   ]
  },
  {
   "cell_type": "markdown",
   "id": "05dc74d3-38d4-4451-8a28-f2f90c07cee9",
   "metadata": {},
   "source": [
    "| Data science Tools | Application type | \n",
    "| ------ | ------ | \n",
    "| Jupyter Notebook | Open-source web application | \n",
    "| Anaconda | Open-source python distribution / data discovery & analytic platform | \n"
   ]
  },
  {
   "cell_type": "markdown",
   "id": "04e024fd-3ef6-4845-a7bf-e6fcc5172ec8",
   "metadata": {},
   "source": [
    "### Random list of beers"
   ]
  },
  {
   "cell_type": "markdown",
   "id": "a496b03d-48e2-49fb-a15a-7e713203c0e1",
   "metadata": {},
   "source": [
    "<ul>\n",
    "<li>IPA</li>\n",
    "<li>Stout</li>\n",
    "<li>Pilsner</li>\n",
    "</ul>"
   ]
  },
  {
   "cell_type": "code",
   "execution_count": null,
   "id": "5cba5955-244b-4765-afc1-552d329ee95e",
   "metadata": {},
   "outputs": [],
   "source": []
  }
 ],
 "metadata": {
  "kernelspec": {
   "display_name": "Python",
   "language": "python",
   "name": "conda-env-python-py"
  },
  "language_info": {
   "codemirror_mode": {
    "name": "ipython",
    "version": 3
   },
   "file_extension": ".py",
   "mimetype": "text/x-python",
   "name": "python",
   "nbconvert_exporter": "python",
   "pygments_lexer": "ipython3",
   "version": "3.7.12"
  }
 },
 "nbformat": 4,
 "nbformat_minor": 5
}
